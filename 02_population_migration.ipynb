{
 "cells": [
  {
   "cell_type": "markdown",
   "metadata": {},
   "source": [
    "# 人口移動が多いのは何月？ e-Stat API機能 で取得したデータをプロットする"
   ]
  },
  {
   "cell_type": "code",
   "execution_count": 1,
   "metadata": {},
   "outputs": [],
   "source": [
    "import os\n",
    "import io\n",
    "import requests\n",
    "import pandas as pd\n",
    "import seaborn as sns\n",
    "\n",
    "%matplotlib inline"
   ]
  },
  {
   "cell_type": "markdown",
   "metadata": {},
   "source": [
    "## 統計調査名を取得\n",
    "https://www.e-stat.go.jp/api/api-info/api-data"
   ]
  },
  {
   "cell_type": "code",
   "execution_count": 2,
   "metadata": {},
   "outputs": [],
   "source": [
    "url = \"http://api.e-stat.go.jp/rest/3.0/app/getSimpleStatsList\"\n",
    "app_id = os.getenv(\"E_STAT_API_APP_ID\")\n",
    "params = {\"appId\": app_id, \"statsNameList\": \"Y\"}"
   ]
  },
  {
   "cell_type": "code",
   "execution_count": 3,
   "metadata": {},
   "outputs": [],
   "source": [
    "response = requests.get(url, params=params)"
   ]
  },
  {
   "cell_type": "code",
   "execution_count": 4,
   "metadata": {},
   "outputs": [],
   "source": [
    "csv_text = response.text[response.text.find('\"TABLE_INF\",') :]"
   ]
  },
  {
   "cell_type": "code",
   "execution_count": 5,
   "metadata": {},
   "outputs": [],
   "source": [
    "df = pd.read_csv(io.StringIO(csv_text), dtype=\"object\")"
   ]
  },
  {
   "cell_type": "code",
   "execution_count": 6,
   "metadata": {},
   "outputs": [
    {
     "data": {
      "text/html": [
       "<div>\n",
       "<style scoped>\n",
       "    .dataframe tbody tr th:only-of-type {\n",
       "        vertical-align: middle;\n",
       "    }\n",
       "\n",
       "    .dataframe tbody tr th {\n",
       "        vertical-align: top;\n",
       "    }\n",
       "\n",
       "    .dataframe thead th {\n",
       "        text-align: right;\n",
       "    }\n",
       "</style>\n",
       "<table border=\"1\" class=\"dataframe\">\n",
       "  <thead>\n",
       "    <tr style=\"text-align: right;\">\n",
       "      <th></th>\n",
       "      <th>TABLE_INF</th>\n",
       "      <th>STAT_CODE</th>\n",
       "      <th>STAT_NAME</th>\n",
       "      <th>GOV_ORG_CODE</th>\n",
       "      <th>GOV_ORG_NAME</th>\n",
       "    </tr>\n",
       "  </thead>\n",
       "  <tbody>\n",
       "    <tr>\n",
       "      <th>14</th>\n",
       "      <td>00200502</td>\n",
       "      <td>00200502</td>\n",
       "      <td>社会・人口統計体系</td>\n",
       "      <td>00200</td>\n",
       "      <td>総務省</td>\n",
       "    </tr>\n",
       "    <tr>\n",
       "      <th>17</th>\n",
       "      <td>00200523</td>\n",
       "      <td>00200523</td>\n",
       "      <td>住民基本台帳人口移動報告</td>\n",
       "      <td>00200</td>\n",
       "      <td>総務省</td>\n",
       "    </tr>\n",
       "    <tr>\n",
       "      <th>18</th>\n",
       "      <td>00200524</td>\n",
       "      <td>00200524</td>\n",
       "      <td>人口推計</td>\n",
       "      <td>00200</td>\n",
       "      <td>総務省</td>\n",
       "    </tr>\n",
       "    <tr>\n",
       "      <th>76</th>\n",
       "      <td>00450011</td>\n",
       "      <td>00450011</td>\n",
       "      <td>人口動態調査</td>\n",
       "      <td>00450</td>\n",
       "      <td>厚生労働省</td>\n",
       "    </tr>\n",
       "  </tbody>\n",
       "</table>\n",
       "</div>"
      ],
      "text/plain": [
       "   TABLE_INF STAT_CODE     STAT_NAME GOV_ORG_CODE GOV_ORG_NAME\n",
       "14  00200502  00200502     社会・人口統計体系        00200          総務省\n",
       "17  00200523  00200523  住民基本台帳人口移動報告        00200          総務省\n",
       "18  00200524  00200524          人口推計        00200          総務省\n",
       "76  00450011  00450011        人口動態調査        00450        厚生労働省"
      ]
     },
     "execution_count": 6,
     "metadata": {},
     "output_type": "execute_result"
    }
   ],
   "source": [
    "df[df.STAT_NAME.str.contains(\"人口\")]"
   ]
  },
  {
   "cell_type": "code",
   "execution_count": 7,
   "metadata": {},
   "outputs": [
    {
     "data": {
      "text/plain": [
       "TABLE_INF           00200523\n",
       "STAT_CODE           00200523\n",
       "STAT_NAME       住民基本台帳人口移動報告\n",
       "GOV_ORG_CODE           00200\n",
       "GOV_ORG_NAME             総務省\n",
       "Name: 17, dtype: object"
      ]
     },
     "execution_count": 7,
     "metadata": {},
     "output_type": "execute_result"
    }
   ],
   "source": [
    "df[df.STAT_NAME.str.contains('人口')].iloc[1]"
   ]
  },
  {
   "cell_type": "code",
   "execution_count": 8,
   "metadata": {},
   "outputs": [],
   "source": [
    "table_inf = df[df.STAT_NAME.str.contains('人口')].iloc[1].TABLE_INF"
   ]
  },
  {
   "cell_type": "markdown",
   "metadata": {},
   "source": [
    "## 統計表情報取得\n",
    "https://www.e-stat.go.jp/api/api-info/e-stat-manual3-0#api_2_1"
   ]
  },
  {
   "cell_type": "code",
   "execution_count": 9,
   "metadata": {},
   "outputs": [],
   "source": [
    "url = \"http://api.e-stat.go.jp/rest/3.0/app/getSimpleStatsList\"\n",
    "app_id = os.getenv(\"E_STAT_API_APP_ID\")\n",
    "params = {\"appId\": app_id, \"statsCode\": table_inf}"
   ]
  },
  {
   "cell_type": "code",
   "execution_count": 10,
   "metadata": {},
   "outputs": [],
   "source": [
    "response = requests.get(url, params=params)"
   ]
  },
  {
   "cell_type": "code",
   "execution_count": 11,
   "metadata": {},
   "outputs": [],
   "source": [
    "csv_text = response.text[response.text.find('\"TABLE_INF\",') :]"
   ]
  },
  {
   "cell_type": "code",
   "execution_count": 12,
   "metadata": {},
   "outputs": [],
   "source": [
    "df = pd.read_csv(io.StringIO(csv_text), dtype=\"object\")"
   ]
  },
  {
   "cell_type": "code",
   "execution_count": 13,
   "metadata": {},
   "outputs": [],
   "source": [
    "table_inf = df[(df.CYCLE == \"月次\") & (df.TABLE_CATEGORY == \"2010年1月～\")].iloc[0].TABLE_INF"
   ]
  },
  {
   "cell_type": "markdown",
   "metadata": {},
   "source": [
    "## メタ情報取得\n",
    "https://www.e-stat.go.jp/api/api-info/e-stat-manual3-0#api_2_2"
   ]
  },
  {
   "cell_type": "code",
   "execution_count": 14,
   "metadata": {},
   "outputs": [],
   "source": [
    "url = \"http://api.e-stat.go.jp/rest/3.0/app/getSimpleMetaInfo\"\n",
    "params = {\"appId\": app_id, 'statsDataId':table_inf}"
   ]
  },
  {
   "cell_type": "code",
   "execution_count": 15,
   "metadata": {},
   "outputs": [],
   "source": [
    "response = requests.get(url, params=params)"
   ]
  },
  {
   "cell_type": "code",
   "execution_count": 16,
   "metadata": {},
   "outputs": [],
   "source": [
    "csv_text = response.text[response.text.find('\"CLASS_OBJ_ID\",') :]"
   ]
  },
  {
   "cell_type": "code",
   "execution_count": 17,
   "metadata": {},
   "outputs": [],
   "source": [
    "df = pd.read_csv(io.StringIO(csv_text), dtype=\"object\")"
   ]
  },
  {
   "cell_type": "code",
   "execution_count": 18,
   "metadata": {},
   "outputs": [
    {
     "data": {
      "text/html": [
       "<div>\n",
       "<style scoped>\n",
       "    .dataframe tbody tr th:only-of-type {\n",
       "        vertical-align: middle;\n",
       "    }\n",
       "\n",
       "    .dataframe tbody tr th {\n",
       "        vertical-align: top;\n",
       "    }\n",
       "\n",
       "    .dataframe thead th {\n",
       "        text-align: right;\n",
       "    }\n",
       "</style>\n",
       "<table border=\"1\" class=\"dataframe\">\n",
       "  <thead>\n",
       "    <tr style=\"text-align: right;\">\n",
       "      <th></th>\n",
       "      <th>CLASS_OBJ_ID</th>\n",
       "      <th>CLASS_OBJ_NAME</th>\n",
       "      <th>CLASS_CODE</th>\n",
       "      <th>CLASS_NAME</th>\n",
       "      <th>CLASS_LEVEL</th>\n",
       "      <th>CLASS_UNIT</th>\n",
       "      <th>CLASS_PARENT_CODE</th>\n",
       "      <th>CLASS_ADD_INF</th>\n",
       "      <th>CLASS_EXPLANATION</th>\n",
       "    </tr>\n",
       "  </thead>\n",
       "  <tbody>\n",
       "    <tr>\n",
       "      <th>0</th>\n",
       "      <td>tab</td>\n",
       "      <td>表章項目</td>\n",
       "      <td>06</td>\n",
       "      <td>他都道府県からの転入者数</td>\n",
       "      <td>NaN</td>\n",
       "      <td>人</td>\n",
       "      <td>NaN</td>\n",
       "      <td>NaN</td>\n",
       "      <td>NaN</td>\n",
       "    </tr>\n",
       "    <tr>\n",
       "      <th>1</th>\n",
       "      <td>cat01</td>\n",
       "      <td>性別</td>\n",
       "      <td>0</td>\n",
       "      <td>総数</td>\n",
       "      <td>1</td>\n",
       "      <td>NaN</td>\n",
       "      <td>NaN</td>\n",
       "      <td>NaN</td>\n",
       "      <td>NaN</td>\n",
       "    </tr>\n",
       "    <tr>\n",
       "      <th>4</th>\n",
       "      <td>cat02</td>\n",
       "      <td>年齢（５歳階級）</td>\n",
       "      <td>000</td>\n",
       "      <td>総数</td>\n",
       "      <td>1</td>\n",
       "      <td>NaN</td>\n",
       "      <td>NaN</td>\n",
       "      <td>NaN</td>\n",
       "      <td>NaN</td>\n",
       "    </tr>\n",
       "    <tr>\n",
       "      <th>24</th>\n",
       "      <td>area</td>\n",
       "      <td>全国・都道府県</td>\n",
       "      <td>00000</td>\n",
       "      <td>全国</td>\n",
       "      <td>1</td>\n",
       "      <td>NaN</td>\n",
       "      <td>NaN</td>\n",
       "      <td>NaN</td>\n",
       "      <td>NaN</td>\n",
       "    </tr>\n",
       "    <tr>\n",
       "      <th>72</th>\n",
       "      <td>time</td>\n",
       "      <td>時間軸（月次）</td>\n",
       "      <td>2018001212</td>\n",
       "      <td>2018年12月</td>\n",
       "      <td>2</td>\n",
       "      <td>NaN</td>\n",
       "      <td>2018000000</td>\n",
       "      <td>NaN</td>\n",
       "      <td>NaN</td>\n",
       "    </tr>\n",
       "  </tbody>\n",
       "</table>\n",
       "</div>"
      ],
      "text/plain": [
       "   CLASS_OBJ_ID CLASS_OBJ_NAME  CLASS_CODE    CLASS_NAME CLASS_LEVEL  \\\n",
       "0           tab           表章項目          06  他都道府県からの転入者数         NaN   \n",
       "1         cat01             性別           0            総数           1   \n",
       "4         cat02       年齢（５歳階級）         000            総数           1   \n",
       "24         area        全国・都道府県       00000            全国           1   \n",
       "72         time        時間軸（月次）  2018001212      2018年12月           2   \n",
       "\n",
       "   CLASS_UNIT CLASS_PARENT_CODE CLASS_ADD_INF CLASS_EXPLANATION  \n",
       "0           人               NaN           NaN               NaN  \n",
       "1         NaN               NaN           NaN               NaN  \n",
       "4         NaN               NaN           NaN               NaN  \n",
       "24        NaN               NaN           NaN               NaN  \n",
       "72        NaN        2018000000           NaN               NaN  "
      ]
     },
     "execution_count": 18,
     "metadata": {},
     "output_type": "execute_result"
    }
   ],
   "source": [
    "df.drop_duplicates('CLASS_OBJ_ID')"
   ]
  },
  {
   "cell_type": "markdown",
   "metadata": {},
   "source": [
    "## 統計データ取得\n",
    "https://www.e-stat.go.jp/api/api-info/e-stat-manual3-0#api_2_3"
   ]
  },
  {
   "cell_type": "code",
   "execution_count": 19,
   "metadata": {},
   "outputs": [],
   "source": [
    "url = \"http://api.e-stat.go.jp/rest/3.0/app/getSimpleStatsData\"\n",
    "params = {\n",
    "    \"appId\": app_id,\n",
    "    \"statsDataId\": table_inf,\n",
    "    \"cdArea\": \"00000\",\n",
    "    \"cdCat01\": \"0\",\n",
    "    \"cdCat02\": \"000\",\n",
    "}"
   ]
  },
  {
   "cell_type": "code",
   "execution_count": 20,
   "metadata": {},
   "outputs": [],
   "source": [
    "response = requests.get(url, params=params)"
   ]
  },
  {
   "cell_type": "code",
   "execution_count": 21,
   "metadata": {},
   "outputs": [],
   "source": [
    "csv_text = response.text[response.text.find('\"tab_code\",') :]"
   ]
  },
  {
   "cell_type": "code",
   "execution_count": 22,
   "metadata": {},
   "outputs": [],
   "source": [
    "df = pd.read_csv(io.StringIO(csv_text), dtype=\"object\")"
   ]
  },
  {
   "cell_type": "markdown",
   "metadata": {},
   "source": [
    "## プロット"
   ]
  },
  {
   "cell_type": "code",
   "execution_count": 23,
   "metadata": {},
   "outputs": [
    {
     "data": {
      "image/png": "[encoded data removed]",
      "text/plain": [
       "<Figure size 864x216 with 1 Axes>"
      ]
     },
     "metadata": {
      "needs_background": "light"
     },
     "output_type": "display_data"
    }
   ],
   "source": [
    "df.pipe(\n",
    "    lambda df: df.assign(year_month=pd.to_datetime(df[\"時間軸（月次）\"], format=\"%Y年%m月\"))\n",
    ").pipe(\n",
    "    lambda df: df[[\"year_month\", \"value\"]]\n",
    "    .astype({\"value\": int})\n",
    "    .set_index(\"year_month\")\n",
    "    .sort_index()\n",
    ").plot(\n",
    "    figsize=(12, 3)\n",
    ")\n",
    "pass"
   ]
  },
  {
   "cell_type": "code",
   "execution_count": 24,
   "metadata": {},
   "outputs": [
    {
     "data": {
      "image/png": "[encoded data removed]",
      "text/plain": [
       "<Figure size 432x288 with 1 Axes>"
      ]
     },
     "metadata": {
      "needs_background": "light"
     },
     "output_type": "display_data"
    }
   ],
   "source": [
    "(\n",
    "    df.pipe(\n",
    "        lambda df: df.assign(year_month=pd.to_datetime(df[\"時間軸（月次）\"], format=\"%Y年%m月\"))\n",
    "    )\n",
    "    .pipe(\n",
    "        lambda df: df[[\"year_month\", \"value\"]]\n",
    "        .astype({\"value\": int})\n",
    "        .set_index(\"year_month\")\n",
    "        .sort_index()\n",
    "    )\n",
    "    .pipe(lambda df: df.assign(month=df.index.month))\n",
    "    .groupby(\"month\")\n",
    "    .mean()\n",
    ").plot.bar(rot=0)\n",
    "pass"
   ]
  },
  {
   "cell_type": "code",
   "execution_count": 25,
   "metadata": {},
   "outputs": [],
   "source": [
    "df_sns = (\n",
    "    df.pipe(\n",
    "        lambda df: df.assign(year_month=pd.to_datetime(df[\"時間軸（月次）\"], format=\"%Y年%m月\"))\n",
    "    )\n",
    "    .pipe(\n",
    "        lambda df: df[[\"year_month\", \"value\"]]\n",
    "        .astype({\"value\": int})\n",
    "        .set_index(\"year_month\")\n",
    "        .sort_index()\n",
    "    )\n",
    "    .pipe(lambda df: df.assign(month=df.index.month))\n",
    ")"
   ]
  },
  {
   "cell_type": "code",
   "execution_count": 26,
   "metadata": {},
   "outputs": [
    {
     "data": {
      "image/png": "[encoded data removed]",
      "text/plain": [
       "<Figure size 360x360 with 1 Axes>"
      ]
     },
     "metadata": {
      "needs_background": "light"
     },
     "output_type": "display_data"
    }
   ],
   "source": [
    "sns.catplot(x=\"month\", y=\"value\", data=df_sns)\n",
    "pass"
   ]
  },
  {
   "cell_type": "code",
   "execution_count": 27,
   "metadata": {},
   "outputs": [
    {
     "data": {
      "image/png": "[encoded data removed]",
      "text/plain": [
       "<Figure size 432x288 with 1 Axes>"
      ]
     },
     "metadata": {
      "needs_background": "light"
     },
     "output_type": "display_data"
    }
   ],
   "source": [
    "sns.violinplot(x=\"month\", y=\"value\", data=df_sns)\n",
    "pass"
   ]
  },
  {
   "cell_type": "code",
   "execution_count": 28,
   "metadata": {},
   "outputs": [
    {
     "data": {
      "image/png": "[encoded data removed]",
      "text/plain": [
       "<Figure size 432x288 with 1 Axes>"
      ]
     },
     "metadata": {
      "needs_background": "light"
     },
     "output_type": "display_data"
    }
   ],
   "source": [
    "sns.boxplot(x=\"month\", y=\"value\", data=df_sns)\n",
    "pass"
   ]
  },
  {
   "cell_type": "code",
   "execution_count": null,
   "metadata": {},
   "outputs": [],
   "source": []
  }
 ],
 "metadata": {
  "kernelspec": {
   "display_name": "Python 3",
   "language": "python",
   "name": "python3"
  },
  "language_info": {
   "codemirror_mode": {
    "name": "ipython",
    "version": 3
   },
   "file_extension": ".py",
   "mimetype": "text/x-python",
   "name": "python",
   "nbconvert_exporter": "python",
   "pygments_lexer": "ipython3",
   "version": "3.7.3"
  }
 },
 "nbformat": 4,
 "nbformat_minor": 4
}
